{
 "cells": [
  {
   "cell_type": "code",
   "execution_count": 8,
   "id": "removed-influence",
   "metadata": {},
   "outputs": [],
   "source": [
    "import numpy as np\n",
    "import pandas as pd \n",
    "import matplotlib.pyplot as plt\n",
    "from sklearn import tree"
   ]
  },
  {
   "cell_type": "code",
   "execution_count": 9,
   "id": "catholic-oxygen",
   "metadata": {},
   "outputs": [
    {
     "data": {
      "text/plain": [
       "<bound method NDFrame.head of     PUPIL_SEX  PUPIL_CLASS  TEACHER_RIGHT  TEACHER_CHK  TEACHER_QUEST  \\\n",
       "0           0            0             65            0              4   \n",
       "1           0            0             70            4              0   \n",
       "2           0            0             85            0              0   \n",
       "3           1            0             55            0              0   \n",
       "4           1            0             40            1              2   \n",
       "5           1            0             65            0              3   \n",
       "6           0            0             67            0              0   \n",
       "7           0            0             60            0              2   \n",
       "8           0            0            100            0              0   \n",
       "9           0            0            100            1              0   \n",
       "10          0            0            100            1              0   \n",
       "11          0            0             86            0              0   \n",
       "12          0            0             50            1              0   \n",
       "13          0            0             60            3              0   \n",
       "14          0            0             75            1              0   \n",
       "15          0            0             80            0              1   \n",
       "16          0            0             87            0              0   \n",
       "17          0            0             90            0              0   \n",
       "18          1            0             60            0              1   \n",
       "19          1            0             40            1              3   \n",
       "20          0            0             70            0              3   \n",
       "21          0            0             85            1              0   \n",
       "22          0            0            100            0              0   \n",
       "23          0            0             40            0              0   \n",
       "24          0            0             40            1              2   \n",
       "25          1            0            100            0              0   \n",
       "26          0            0            100            0              0   \n",
       "27          0            0            100            0              0   \n",
       "28          1            0             40            2              0   \n",
       "29          0            0             80            0              1   \n",
       "30          1            0            100            0              0   \n",
       "31          0            0            100            0              0   \n",
       "32          0            0            100            0              0   \n",
       "33          0            0             40            0              2   \n",
       "34          0            0            100            0              0   \n",
       "35          1            0            100            0              0   \n",
       "36          0            0            100            0              0   \n",
       "37          0            0            100            0              0   \n",
       "38          0            0             80            1              0   \n",
       "39          1            0              0            0              2   \n",
       "40          1            0             60            1              1   \n",
       "41          0            0             80            1              0   \n",
       "42          0            1             30            0              1   \n",
       "43          0            1             50            0              1   \n",
       "44          0            1             30            0              1   \n",
       "45          1            1             80            0              1   \n",
       "46          0            1            100            0              0   \n",
       "47          0            1              0            0              0   \n",
       "48          0            1             30            0              0   \n",
       "49          0            1             60            0              1   \n",
       "50          0            1              0            0              0   \n",
       "51          0            1             20            0              0   \n",
       "52          1            1             20            0              0   \n",
       "53          1            1             15            0              0   \n",
       "54          0            1            100            0              0   \n",
       "55          0            1             30            0              0   \n",
       "56          0            1              0            0              0   \n",
       "\n",
       "    TEACHER_CORR  PUPIL_CORR  PUPIL_STRIP  GRADE  \n",
       "0              2           1            6     35  \n",
       "1              4           0            4     30  \n",
       "2              4           3            5     40  \n",
       "3              1           8            3     30  \n",
       "4              0           3            4     20  \n",
       "5              4           4            8     35  \n",
       "6              1           3            3     35  \n",
       "7              0           5            9     30  \n",
       "8              2           0            2     45  \n",
       "9              2           3            1     40  \n",
       "10             2           0            5     50  \n",
       "11             1          10            1     40  \n",
       "12             6           0            1     35  \n",
       "13             4           1            5     40  \n",
       "14             2           1            2     40  \n",
       "15             1           1            2     40  \n",
       "16             2           3            4     40  \n",
       "17             1           1            1     40  \n",
       "18             4           0            0     30  \n",
       "19             3           1            2     30  \n",
       "20             1           0            1     40  \n",
       "21             1           0            1     40  \n",
       "22             0           0            1     50  \n",
       "23             1           2            4     40  \n",
       "24             0           8            4     30  \n",
       "25             0           0            0     50  \n",
       "26             0           0            0     50  \n",
       "27             0           0            5     50  \n",
       "28             0           1            5     30  \n",
       "29             1           0            5     40  \n",
       "30             0           0           10     50  \n",
       "31             1           0            2     50  \n",
       "32             1           0            0     45  \n",
       "33             0           0            0     20  \n",
       "34             2           0            5     45  \n",
       "35             0           0            2     50  \n",
       "36             5           0            0     45  \n",
       "37             3           0            4     45  \n",
       "38             0           2           12     35  \n",
       "39             0           0            4     20  \n",
       "40             4           9            0     35  \n",
       "41             1           0           12     40  \n",
       "42             2           1            1     30  \n",
       "43             2           1            1     20  \n",
       "44             2           2            0     30  \n",
       "45             1           0            2     40  \n",
       "46             0           0            0     50  \n",
       "47             2           0            1     20  \n",
       "48             1           2            0     20  \n",
       "49             1           3            2     40  \n",
       "50             5           4            1     20  \n",
       "51             2           2            1     25  \n",
       "52             2           0            6     20  \n",
       "53             0           0           11     20  \n",
       "54             0           2            0     50  \n",
       "55             1           5            3     25  \n",
       "56             0           0            1     20  >"
      ]
     },
     "execution_count": 9,
     "metadata": {},
     "output_type": "execute_result"
    }
   ],
   "source": [
    "df = pd.read_csv('grades_learn.csv')\n",
    "df.head"
   ]
  },
  {
   "cell_type": "code",
   "execution_count": 10,
   "id": "familiar-deficit",
   "metadata": {},
   "outputs": [
    {
     "data": {
      "text/html": [
       "<div>\n",
       "<style scoped>\n",
       "    .dataframe tbody tr th:only-of-type {\n",
       "        vertical-align: middle;\n",
       "    }\n",
       "\n",
       "    .dataframe tbody tr th {\n",
       "        vertical-align: top;\n",
       "    }\n",
       "\n",
       "    .dataframe thead th {\n",
       "        text-align: right;\n",
       "    }\n",
       "</style>\n",
       "<table border=\"1\" class=\"dataframe\">\n",
       "  <thead>\n",
       "    <tr style=\"text-align: right;\">\n",
       "      <th></th>\n",
       "      <th>PUPIL_SEX</th>\n",
       "      <th>PUPIL_CLASS</th>\n",
       "      <th>TEACHER_RIGHT</th>\n",
       "      <th>TEACHER_CHK</th>\n",
       "      <th>TEACHER_QUEST</th>\n",
       "      <th>TEACHER_CORR</th>\n",
       "      <th>PUPIL_CORR</th>\n",
       "      <th>PUPIL_STRIP</th>\n",
       "    </tr>\n",
       "  </thead>\n",
       "  <tbody>\n",
       "    <tr>\n",
       "      <th>0</th>\n",
       "      <td>0</td>\n",
       "      <td>0</td>\n",
       "      <td>65</td>\n",
       "      <td>0</td>\n",
       "      <td>4</td>\n",
       "      <td>2</td>\n",
       "      <td>1</td>\n",
       "      <td>6</td>\n",
       "    </tr>\n",
       "    <tr>\n",
       "      <th>1</th>\n",
       "      <td>0</td>\n",
       "      <td>0</td>\n",
       "      <td>70</td>\n",
       "      <td>4</td>\n",
       "      <td>0</td>\n",
       "      <td>4</td>\n",
       "      <td>0</td>\n",
       "      <td>4</td>\n",
       "    </tr>\n",
       "    <tr>\n",
       "      <th>2</th>\n",
       "      <td>0</td>\n",
       "      <td>0</td>\n",
       "      <td>85</td>\n",
       "      <td>0</td>\n",
       "      <td>0</td>\n",
       "      <td>4</td>\n",
       "      <td>3</td>\n",
       "      <td>5</td>\n",
       "    </tr>\n",
       "    <tr>\n",
       "      <th>3</th>\n",
       "      <td>1</td>\n",
       "      <td>0</td>\n",
       "      <td>55</td>\n",
       "      <td>0</td>\n",
       "      <td>0</td>\n",
       "      <td>1</td>\n",
       "      <td>8</td>\n",
       "      <td>3</td>\n",
       "    </tr>\n",
       "    <tr>\n",
       "      <th>4</th>\n",
       "      <td>1</td>\n",
       "      <td>0</td>\n",
       "      <td>40</td>\n",
       "      <td>1</td>\n",
       "      <td>2</td>\n",
       "      <td>0</td>\n",
       "      <td>3</td>\n",
       "      <td>4</td>\n",
       "    </tr>\n",
       "  </tbody>\n",
       "</table>\n",
       "</div>"
      ],
      "text/plain": [
       "   PUPIL_SEX  PUPIL_CLASS  TEACHER_RIGHT  TEACHER_CHK  TEACHER_QUEST  \\\n",
       "0          0            0             65            0              4   \n",
       "1          0            0             70            4              0   \n",
       "2          0            0             85            0              0   \n",
       "3          1            0             55            0              0   \n",
       "4          1            0             40            1              2   \n",
       "\n",
       "   TEACHER_CORR  PUPIL_CORR  PUPIL_STRIP  \n",
       "0             2           1            6  \n",
       "1             4           0            4  \n",
       "2             4           3            5  \n",
       "3             1           8            3  \n",
       "4             0           3            4  "
      ]
     },
     "execution_count": 10,
     "metadata": {},
     "output_type": "execute_result"
    }
   ],
   "source": [
    "x = df.iloc[:,:8]\n",
    "x.head()"
   ]
  },
  {
   "cell_type": "code",
   "execution_count": 4,
   "id": "grateful-respect",
   "metadata": {},
   "outputs": [
    {
     "data": {
      "text/html": [
       "<div>\n",
       "<style scoped>\n",
       "    .dataframe tbody tr th:only-of-type {\n",
       "        vertical-align: middle;\n",
       "    }\n",
       "\n",
       "    .dataframe tbody tr th {\n",
       "        vertical-align: top;\n",
       "    }\n",
       "\n",
       "    .dataframe thead th {\n",
       "        text-align: right;\n",
       "    }\n",
       "</style>\n",
       "<table border=\"1\" class=\"dataframe\">\n",
       "  <thead>\n",
       "    <tr style=\"text-align: right;\">\n",
       "      <th></th>\n",
       "      <th>GRADE</th>\n",
       "    </tr>\n",
       "  </thead>\n",
       "  <tbody>\n",
       "    <tr>\n",
       "      <th>0</th>\n",
       "      <td>35</td>\n",
       "    </tr>\n",
       "    <tr>\n",
       "      <th>1</th>\n",
       "      <td>30</td>\n",
       "    </tr>\n",
       "    <tr>\n",
       "      <th>2</th>\n",
       "      <td>40</td>\n",
       "    </tr>\n",
       "    <tr>\n",
       "      <th>3</th>\n",
       "      <td>30</td>\n",
       "    </tr>\n",
       "    <tr>\n",
       "      <th>4</th>\n",
       "      <td>20</td>\n",
       "    </tr>\n",
       "  </tbody>\n",
       "</table>\n",
       "</div>"
      ],
      "text/plain": [
       "   GRADE\n",
       "0     35\n",
       "1     30\n",
       "2     40\n",
       "3     30\n",
       "4     20"
      ]
     },
     "execution_count": 4,
     "metadata": {},
     "output_type": "execute_result"
    }
   ],
   "source": [
    "y=df.iloc[:,8:]\n",
    "y.head()"
   ]
  },
  {
   "cell_type": "code",
   "execution_count": 5,
   "id": "perceived-hospital",
   "metadata": {},
   "outputs": [
    {
     "data": {
      "text/plain": [
       "DecisionTreeClassifier(criterion='entropy')"
      ]
     },
     "execution_count": 5,
     "metadata": {},
     "output_type": "execute_result"
    }
   ],
   "source": [
    "model=tree.DecisionTreeClassifier(criterion=\"entropy\")\n",
    "model.fit(x,y)"
   ]
  },
  {
   "cell_type": "code",
   "execution_count": 6,
   "id": "still-timber",
   "metadata": {},
   "outputs": [
    {
     "data": {
      "text/plain": [
       "1.0"
      ]
     },
     "execution_count": 6,
     "metadata": {},
     "output_type": "execute_result"
    }
   ],
   "source": [
    "model.score(x,y)"
   ]
  },
  {
   "cell_type": "code",
   "execution_count": 16,
   "id": "assumed-bailey",
   "metadata": {},
   "outputs": [
    {
     "name": "stdout",
     "output_type": "stream",
     "text": [
      "[35] [35] [20] [50] [40] [35] [40] [35] [35] [35] [40] [40] [35] [40] [40]\n"
     ]
    }
   ],
   "source": [
    "df_test = pd.read_csv('grades_test.csv')\n",
    "ll = df_test.values.tolist()\n",
    "results = []\n",
    "\n",
    "for l in ll:\n",
    "    results.append(model.predict([l[:8]]))\n",
    "    \n",
    "print(*results)"
   ]
  }
 ],
 "metadata": {
  "kernelspec": {
   "display_name": "Python 3",
   "language": "python",
   "name": "python3"
  },
  "language_info": {
   "codemirror_mode": {
    "name": "ipython",
    "version": 3
   },
   "file_extension": ".py",
   "mimetype": "text/x-python",
   "name": "python",
   "nbconvert_exporter": "python",
   "pygments_lexer": "ipython3",
   "version": "3.7.4"
  }
 },
 "nbformat": 4,
 "nbformat_minor": 5
}
